{
 "cells": [
  {
   "cell_type": "code",
   "execution_count": 2,
   "id": "6d618fa8",
   "metadata": {},
   "outputs": [
    {
     "name": "stdout",
     "output_type": "stream",
     "text": [
      "Collecting xgboost\n",
      "  Downloading xgboost-3.0.0-py3-none-win_amd64.whl.metadata (2.1 kB)\n",
      "Requirement already satisfied: numpy in c:\\users\\mahima\\appdata\\local\\programs\\python\\python312\\lib\\site-packages (from xgboost) (1.26.4)\n",
      "Requirement already satisfied: scipy in c:\\users\\mahima\\appdata\\local\\programs\\python\\python312\\lib\\site-packages (from xgboost) (1.15.2)\n",
      "Downloading xgboost-3.0.0-py3-none-win_amd64.whl (150.0 MB)\n",
      "   ---------------------------------------- 0.0/150.0 MB ? eta -:--:--\n",
      "   ---------------------------------------- 0.0/150.0 MB ? eta -:--:--\n",
      "   ---------------------------------------- 0.5/150.0 MB 2.4 MB/s eta 0:01:03\n",
      "   ---------------------------------------- 1.0/150.0 MB 2.5 MB/s eta 0:01:00\n",
      "   ---------------------------------------- 1.6/150.0 MB 2.5 MB/s eta 0:00:59\n",
      "    --------------------------------------- 2.1/150.0 MB 2.9 MB/s eta 0:00:51\n",
      "    --------------------------------------- 2.9/150.0 MB 2.8 MB/s eta 0:00:52\n",
      "    --------------------------------------- 3.4/150.0 MB 2.8 MB/s eta 0:00:54\n",
      "   - -------------------------------------- 4.5/150.0 MB 3.1 MB/s eta 0:00:47\n",
      "   - -------------------------------------- 6.3/150.0 MB 3.8 MB/s eta 0:00:38\n",
      "   -- ------------------------------------- 9.4/150.0 MB 5.1 MB/s eta 0:00:28\n",
      "   --- ------------------------------------ 13.9/150.0 MB 6.8 MB/s eta 0:00:20\n",
      "   ---- ----------------------------------- 16.8/150.0 MB 7.8 MB/s eta 0:00:18\n",
      "   ----- ---------------------------------- 19.4/150.0 MB 7.9 MB/s eta 0:00:17\n",
      "   ------ --------------------------------- 26.2/150.0 MB 9.8 MB/s eta 0:00:13\n",
      "   --------- ------------------------------ 35.7/150.0 MB 12.2 MB/s eta 0:00:10\n",
      "   ------------- -------------------------- 49.3/150.0 MB 15.0 MB/s eta 0:00:07\n",
      "   -------------- ------------------------- 54.5/150.0 MB 15.0 MB/s eta 0:00:07\n",
      "   ----------------- ---------------------- 66.8/150.0 MB 17.1 MB/s eta 0:00:05\n",
      "   ---------------------- ----------------- 83.6/150.0 MB 20.2 MB/s eta 0:00:04\n",
      "   ------------------------- -------------- 94.1/150.0 MB 21.8 MB/s eta 0:00:03\n",
      "   -------------------------- ------------ 102.8/150.0 MB 22.5 MB/s eta 0:00:03\n",
      "   -------------------------- ------------ 103.8/150.0 MB 22.6 MB/s eta 0:00:03\n",
      "   ----------------------------- --------- 111.7/150.0 MB 22.3 MB/s eta 0:00:02\n",
      "   ------------------------------- ------- 120.8/150.0 MB 23.1 MB/s eta 0:00:02\n",
      "   --------------------------------- ----- 130.3/150.0 MB 23.9 MB/s eta 0:00:01\n",
      "   ------------------------------------ -- 140.0/150.0 MB 24.6 MB/s eta 0:00:01\n",
      "   --------------------------------------  149.2/150.0 MB 25.3 MB/s eta 0:00:01\n",
      "   --------------------------------------  149.9/150.0 MB 25.4 MB/s eta 0:00:01\n",
      "   --------------------------------------  149.9/150.0 MB 25.4 MB/s eta 0:00:01\n",
      "   --------------------------------------  149.9/150.0 MB 25.4 MB/s eta 0:00:01\n",
      "   --------------------------------------- 150.0/150.0 MB 22.5 MB/s eta 0:00:00\n",
      "Installing collected packages: xgboost\n",
      "Successfully installed xgboost-3.0.0\n"
     ]
    }
   ],
   "source": [
    "!pip install xgboost"
   ]
  },
  {
   "cell_type": "code",
   "execution_count": 3,
   "id": "a4b9c139",
   "metadata": {},
   "outputs": [],
   "source": [
    "import pandas as pd\n",
    "import numpy as np\n",
    "from sklearn.model_selection import train_test_split\n",
    "from sklearn.preprocessing import StandardScaler\n",
    "from sklearn.metrics import accuracy_score, confusion_matrix, classification_report\n",
    "from sklearn.linear_model import LogisticRegression\n",
    "from sklearn.ensemble import RandomForestClassifier\n",
    "from sklearn.neighbors import KNeighborsClassifier\n",
    "from sklearn.svm import SVC\n",
    "from sklearn.neural_network import MLPClassifier\n",
    "import xgboost as xgb\n",
    "\n"
   ]
  },
  {
   "cell_type": "markdown",
   "id": "e2ba5992",
   "metadata": {},
   "source": [
    "Load the Data"
   ]
  },
  {
   "cell_type": "code",
   "execution_count": 6,
   "id": "f12668db",
   "metadata": {},
   "outputs": [],
   "source": [
    "df=pd.read_csv(\"heart (1).csv\")\n",
    "x=df.drop(\"target\",axis=1)\n",
    "y=df[\"target\"]"
   ]
  },
  {
   "cell_type": "markdown",
   "id": "81b97e5b",
   "metadata": {},
   "source": [
    "Split Data"
   ]
  },
  {
   "cell_type": "code",
   "execution_count": 7,
   "id": "31ac62e7",
   "metadata": {},
   "outputs": [],
   "source": [
    "x_train,x_test,y_train,y_test=train_test_split(x,y,test_size=0.2,stratify=y,random_state=2)"
   ]
  },
  {
   "cell_type": "markdown",
   "id": "a1a2d810",
   "metadata": {},
   "source": [
    "Scale features"
   ]
  },
  {
   "cell_type": "code",
   "execution_count": 8,
   "id": "729f903c",
   "metadata": {},
   "outputs": [],
   "source": [
    "scaler = StandardScaler()\n",
    "x_train_scaled = scaler.fit_transform(x_train)\n",
    "x_test_scaled = scaler.transform(x_test)\n"
   ]
  },
  {
   "cell_type": "markdown",
   "id": "71a6982f",
   "metadata": {},
   "source": [
    "Models to compare"
   ]
  },
  {
   "cell_type": "code",
   "execution_count": 9,
   "id": "82a113a5",
   "metadata": {},
   "outputs": [],
   "source": [
    "models = {\n",
    "    \"Logistic Regression\": LogisticRegression(),\n",
    "    \"Random Forest\": RandomForestClassifier(),\n",
    "    \"KNN\": KNeighborsClassifier(),\n",
    "    \"SVM\": SVC(),\n",
    "    \"Neural Network\": MLPClassifier(max_iter=500),\n",
    "    \"XGBoost\": xgb.XGBClassifier(use_label_encoder=False, eval_metric='logloss')\n",
    "}\n"
   ]
  },
  {
   "cell_type": "markdown",
   "id": "d67ca60a",
   "metadata": {},
   "source": [
    "Train and evaluate each model"
   ]
  },
  {
   "cell_type": "code",
   "execution_count": 12,
   "id": "fe71501d",
   "metadata": {},
   "outputs": [
    {
     "name": "stdout",
     "output_type": "stream",
     "text": [
      "\n",
      "Logistic Regression Accuracy: 0.80\n",
      "[[73 27]\n",
      " [13 92]]\n",
      "              precision    recall  f1-score   support\n",
      "\n",
      "           0       0.85      0.73      0.78       100\n",
      "           1       0.77      0.88      0.82       105\n",
      "\n",
      "    accuracy                           0.80       205\n",
      "   macro avg       0.81      0.80      0.80       205\n",
      "weighted avg       0.81      0.80      0.80       205\n",
      "\n",
      "\n",
      "Random Forest Accuracy: 1.00\n",
      "[[100   0]\n",
      " [  0 105]]\n",
      "              precision    recall  f1-score   support\n",
      "\n",
      "           0       1.00      1.00      1.00       100\n",
      "           1       1.00      1.00      1.00       105\n",
      "\n",
      "    accuracy                           1.00       205\n",
      "   macro avg       1.00      1.00      1.00       205\n",
      "weighted avg       1.00      1.00      1.00       205\n",
      "\n",
      "\n",
      "KNN Accuracy: 0.86\n",
      "[[90 10]\n",
      " [19 86]]\n",
      "              precision    recall  f1-score   support\n",
      "\n",
      "           0       0.83      0.90      0.86       100\n",
      "           1       0.90      0.82      0.86       105\n",
      "\n",
      "    accuracy                           0.86       205\n",
      "   macro avg       0.86      0.86      0.86       205\n",
      "weighted avg       0.86      0.86      0.86       205\n",
      "\n",
      "\n",
      "SVM Accuracy: 0.90\n",
      "[[88 12]\n",
      " [ 8 97]]\n",
      "              precision    recall  f1-score   support\n",
      "\n",
      "           0       0.92      0.88      0.90       100\n",
      "           1       0.89      0.92      0.91       105\n",
      "\n",
      "    accuracy                           0.90       205\n",
      "   macro avg       0.90      0.90      0.90       205\n",
      "weighted avg       0.90      0.90      0.90       205\n",
      "\n"
     ]
    },
    {
     "name": "stderr",
     "output_type": "stream",
     "text": [
      "c:\\Users\\MAHIMA\\AppData\\Local\\Programs\\Python\\Python312\\Lib\\site-packages\\sklearn\\neural_network\\_multilayer_perceptron.py:691: ConvergenceWarning: Stochastic Optimizer: Maximum iterations (500) reached and the optimization hasn't converged yet.\n",
      "  warnings.warn(\n",
      "c:\\Users\\MAHIMA\\AppData\\Local\\Programs\\Python\\Python312\\Lib\\site-packages\\xgboost\\training.py:183: UserWarning: [04:33:05] WARNING: C:\\actions-runner\\_work\\xgboost\\xgboost\\src\\learner.cc:738: \n",
      "Parameters: { \"use_label_encoder\" } are not used.\n",
      "\n",
      "  bst.update(dtrain, iteration=i, fobj=obj)\n"
     ]
    },
    {
     "name": "stdout",
     "output_type": "stream",
     "text": [
      "\n",
      "Neural Network Accuracy: 1.00\n",
      "[[100   0]\n",
      " [  0 105]]\n",
      "              precision    recall  f1-score   support\n",
      "\n",
      "           0       1.00      1.00      1.00       100\n",
      "           1       1.00      1.00      1.00       105\n",
      "\n",
      "    accuracy                           1.00       205\n",
      "   macro avg       1.00      1.00      1.00       205\n",
      "weighted avg       1.00      1.00      1.00       205\n",
      "\n",
      "\n",
      "XGBoost Accuracy: 1.00\n",
      "[[100   0]\n",
      " [  0 105]]\n",
      "              precision    recall  f1-score   support\n",
      "\n",
      "           0       1.00      1.00      1.00       100\n",
      "           1       1.00      1.00      1.00       105\n",
      "\n",
      "    accuracy                           1.00       205\n",
      "   macro avg       1.00      1.00      1.00       205\n",
      "weighted avg       1.00      1.00      1.00       205\n",
      "\n"
     ]
    }
   ],
   "source": [
    "for name, model in models.items():\n",
    "    model.fit(x_train_scaled, y_train)\n",
    "    y_pred = model.predict(x_test_scaled)\n",
    "    acc = accuracy_score(y_test, y_pred)\n",
    "    print(f\"\\n{name} Accuracy: {acc:.2f}\")\n",
    "    print(confusion_matrix(y_test, y_pred))\n",
    "    print(classification_report(y_test,y_pred))"
   ]
  }
 ],
 "metadata": {
  "kernelspec": {
   "display_name": "Python 3",
   "language": "python",
   "name": "python3"
  },
  "language_info": {
   "codemirror_mode": {
    "name": "ipython",
    "version": 3
   },
   "file_extension": ".py",
   "mimetype": "text/x-python",
   "name": "python",
   "nbconvert_exporter": "python",
   "pygments_lexer": "ipython3",
   "version": "3.12.3"
  }
 },
 "nbformat": 4,
 "nbformat_minor": 5
}
